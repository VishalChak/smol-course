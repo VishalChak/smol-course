{
 "cells": [
  {
   "cell_type": "code",
   "execution_count": 1,
   "id": "c325c717-6518-445c-94a6-3a75082a0899",
   "metadata": {},
   "outputs": [],
   "source": [
    "cate3_dict = {}"
   ]
  },
  {
   "cell_type": "code",
   "execution_count": 2,
   "id": "80db85ad-053f-4d9b-bf9b-dc4a25209798",
   "metadata": {},
   "outputs": [
    {
     "name": "stdout",
     "output_type": "stream",
     "text": [
      "{'tray_cleaning': 0, 'light_cleaning': 0, 'spittoon_cleaning': 0, 'chair_cleaning': 0}\n"
     ]
    }
   ],
   "source": [
    "cate3val = 0\n",
    "for i in range(4):\n",
    "    if i ==0 :\n",
    "        cate3_dict['tray_cleaning'] = cate3val\n",
    "    elif i ==1:\n",
    "        cate3_dict['light_cleaning'] = cate3val\n",
    "    elif i==2:\n",
    "        cate3_dict['spittoon_cleaning'] = cate3val\n",
    "    elif i==3:\n",
    "        cate3_dict['chair_cleaning']  = cate3val\n",
    "print(cate3_dict)"
   ]
  },
  {
   "cell_type": "code",
   "execution_count": 3,
   "id": "f30dcf73-a7fe-400c-85ec-5972083c268d",
   "metadata": {},
   "outputs": [],
   "source": [
    "cate3_dict = {key: 0 for i, key in enumerate(['tray_cleaning', 'light_cleaning', 'spittoon_cleaning', 'chair_cleaning'])}"
   ]
  },
  {
   "cell_type": "code",
   "execution_count": 4,
   "id": "3fd6f02c-a522-4da1-96ec-2290974549e3",
   "metadata": {},
   "outputs": [
    {
     "data": {
      "text/plain": [
       "{'tray_cleaning': 0,\n",
       " 'light_cleaning': 0,\n",
       " 'spittoon_cleaning': 0,\n",
       " 'chair_cleaning': 0}"
      ]
     },
     "execution_count": 4,
     "metadata": {},
     "output_type": "execute_result"
    }
   ],
   "source": [
    "cate3_dict"
   ]
  },
  {
   "cell_type": "code",
   "execution_count": null,
   "id": "999a3571-cfaa-4303-8e74-1bc1d3a8005e",
   "metadata": {},
   "outputs": [],
   "source": []
  }
 ],
 "metadata": {
  "kernelspec": {
   "display_name": "Python 3 (ipykernel)",
   "language": "python",
   "name": "python3"
  },
  "language_info": {
   "codemirror_mode": {
    "name": "ipython",
    "version": 3
   },
   "file_extension": ".py",
   "mimetype": "text/x-python",
   "name": "python",
   "nbconvert_exporter": "python",
   "pygments_lexer": "ipython3",
   "version": "3.9.20"
  }
 },
 "nbformat": 4,
 "nbformat_minor": 5
}
